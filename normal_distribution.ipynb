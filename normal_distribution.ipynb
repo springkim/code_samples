{
 "cells": [
  {
   "cell_type": "code",
   "execution_count": 1,
   "metadata": {},
   "outputs": [],
   "source": [
    "#define _USE_MATH_DEFINES\n",
    "#include<cmath>\n",
    "#include<mkl.h>\n",
    "#include<opencv2/opencv.hpp>\n",
    "#include<random>\n",
    "#include<vector>\n",
    "#include<chrono>"
   ]
  },
  {
   "cell_type": "markdown",
   "metadata": {},
   "source": [
    "![](https://i.imgur.com/GLVc3Il.png)"
   ]
  },
  {
   "cell_type": "code",
   "execution_count": 2,
   "metadata": {},
   "outputs": [],
   "source": [
    "float normal_distribution(float x, float mean, float stddev) {\n",
    "\treturn (1.f / (stddev*sqrt(2 * M_PI)))*pow(M_E, -pow(x - mean, 2) / (2 * pow(stddev, 2)));\n",
    "}"
   ]
  },
  {
   "cell_type": "code",
   "execution_count": 3,
   "metadata": {},
   "outputs": [],
   "source": [
    "void draw_normal_distribution(cv::Mat& img,int range_negative,int range_positive,float mean,float stddev) {\n",
    "\tstd::vector<int> dst(img.cols, 0);\n",
    "\tfor (int i = 0; i < img.cols; i++) {\n",
    "\t\tfloat x = static_cast<float>(i) / img.cols;\t//0~1\n",
    "\t\tx = x * (range_positive - range_negative);\t//0~20\n",
    "\t\tx += range_negative;\t//-10~10\n",
    "\t\tfloat y = normal_distribution(x,mean,stddev)*img.rows;\n",
    "\t\tdst[i] = y;\n",
    "\t}\n",
    "\tfor (int i = 0; i < dst.size()-1; i++) {\n",
    "\t\tcv::line(img, cv::Point(i, img.rows-dst[i]), cv::Point(i + 1, img.rows-dst[i + 1]), cv::Scalar(0, 0, 255),2);\n",
    "\t}\n",
    "}"
   ]
  },
  {
   "cell_type": "code",
   "execution_count": 4,
   "metadata": {},
   "outputs": [],
   "source": [
    "void draw_normal_distribution_bar(std::vector<float>& values,float mean,float stddev, std::string winname) {\n",
    "\tconst int rows = 500;\n",
    "\tconst int cols = 1000;\n",
    "\tfloat range_positive = 10;\n",
    "\tfloat range_negative = -10;\n",
    "\tstd::vector<int> dist(cols, 0);\n",
    "\tstd::for_each(values.begin(), values.end(), [&](float& val)->void {\n",
    "\t\tval -= range_negative;            //0~(maxv-minv)\n",
    "\t\tval = val / (range_positive - range_negative); //0~1\n",
    "\t\tval *= (cols-1);\n",
    "\t});\n",
    "\tfor (int i = 0; i < values.size(); i++) {\n",
    "\t\tint idx = static_cast<int>(values[i]);\n",
    "\t\tif(idx>=0 && idx<cols)\n",
    "\t\t\tdist[idx]++;\n",
    "\t}\n",
    "\tfloat zero_y = normal_distribution(0.f, mean, stddev);\n",
    "\tfloat mulval = zero_y*rows / dist[dist.size() / 2] ;\n",
    "\tfor (int i = 0; i < dist.size(); i++) {\n",
    "\t\tdist[i] = dist[i] * mulval;\n",
    "\t}\n",
    "\tcv::Mat img = cv::Mat::zeros(rows, cols, CV_8UC3);\n",
    "\tfor (int i = 0; i < dist.size(); i++) {\n",
    "\t\tcv::line(img, cv::Point(i, rows), cv::Point(i, rows-dist[i]), cv::Scalar(255, 255, 255));\n",
    "\t}\n",
    "\tdraw_normal_distribution(img, range_negative, range_positive, mean, stddev);\n",
    "\tcv::imshow(winname, img);\n",
    "}"
   ]
  },
  {
   "cell_type": "markdown",
   "metadata": {},
   "source": [
    "### Using MKL's vsRngGaussian method"
   ]
  },
  {
   "cell_type": "code",
   "execution_count": 5,
   "metadata": {},
   "outputs": [],
   "source": [
    "void mkl_normal_distribution(float mean, float stddev, int N) {\n",
    "\tVSLStreamStatePtr stream;\n",
    "\tvslNewStream(&stream, VSL_BRNG_MT19937, 0);\n",
    "\tstd::vector<float> arr;\n",
    "\tarr.assign(N, 0);\n",
    "\tstd::chrono::system_clock::time_point t_beg, t_end;\n",
    "\tstd::chrono::duration<double> diff;\n",
    "\tt_beg = std::chrono::system_clock::now();\n",
    "\tvsRngGaussian(VSL_RNG_METHOD_GAUSSIAN_ICDF, stream, N, arr.data(), mean, stddev);\n",
    "\tt_end = std::chrono::system_clock::now();\n",
    "\tdiff = t_end - t_beg;\n",
    "\tstd::cout << \"vsRngGaussian: \" << diff.count() << std::endl;\n",
    "\tdraw_normal_distribution_bar(arr, mean, stddev, \"mkl\");\n",
    "}"
   ]
  },
  {
   "cell_type": "markdown",
   "metadata": {},
   "source": [
    "### Using standard C++ normal_distribution"
   ]
  },
  {
   "cell_type": "code",
   "execution_count": 6,
   "metadata": {},
   "outputs": [],
   "source": [
    "void stdcpp_normal_distribution(float mean, float stddev, int N) {\n",
    "\tstd::random_device rd{};\n",
    "\tstd::mt19937 gen(rd());\n",
    "\tstd::normal_distribution<float> d{ mean,stddev };\n",
    "\tstd::vector<float> arr;\n",
    "\tarr.assign(N, 0);\n",
    "\tstd::chrono::system_clock::time_point t_beg, t_end;\n",
    "\tstd::chrono::duration<double> diff;\n",
    "\tt_beg = std::chrono::system_clock::now();\n",
    "\tfor (int i = 0; i < arr.size(); i++) {\n",
    "\t\tarr[i] = d(gen);\n",
    "\t}\n",
    "\tt_end = std::chrono::system_clock::now();\n",
    "\tdiff = t_end - t_beg;\n",
    "\tstd::cout << \"std::normal_distribution: \" << diff.count() << std::endl;\n",
    "\tdraw_normal_distribution_bar(arr, mean, stddev, \"stdcpp\");\n",
    "}"
   ]
  },
  {
   "cell_type": "code",
   "execution_count": 7,
   "metadata": {},
   "outputs": [
    {
     "name": "stdout",
     "output_type": "stream",
     "text": [
      "vsRngGaussian: 0.000515367\n",
      "mkl\n"
     ]
    },
    {
     "data": {
      "image/png": "[encoded data removed]"
     },
     "metadata": {},
     "output_type": "display_data"
    }
   ],
   "source": [
    "float mean = 0.f;\n",
    "float stddev = 1.f;\n",
    "int N=100000;\n",
    "mkl_normal_distribution(mean, stddev, N);"
   ]
  },
  {
   "cell_type": "code",
   "execution_count": 8,
   "metadata": {},
   "outputs": [
    {
     "name": "stdout",
     "output_type": "stream",
     "text": [
      "std::normal_distribution: 0.0293416\n",
      "stdcpp\n"
     ]
    },
    {
     "data": {
      "image/png": "[encoded data removed]"
     },
     "metadata": {},
     "output_type": "display_data"
    }
   ],
   "source": [
    "stdcpp_normal_distribution(mean, stddev, N);"
   ]
  },
  {
   "cell_type": "code",
   "execution_count": null,
   "metadata": {},
   "outputs": [],
   "source": []
  }
 ],
 "metadata": {
  "kernelspec": {
   "display_name": "C++14",
   "language": "C++14",
   "name": "xcpp14"
  },
  "language_info": {
   "codemirror_mode": "text/x-c++src",
   "file_extension": ".cpp",
   "mimetype": "text/x-c++src",
   "name": "c++",
   "version": "14"
  }
 },
 "nbformat": 4,
 "nbformat_minor": 4
}
